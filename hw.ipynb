{
  "nbformat": 4,
  "nbformat_minor": 0,
  "metadata": {
    "colab": {
      "provenance": [],
      "authorship_tag": "ABX9TyOamMftjyhg/GSdoCymjgNK",
      "include_colab_link": true
    },
    "kernelspec": {
      "name": "python3",
      "display_name": "Python 3"
    },
    "language_info": {
      "name": "python"
    }
  },
  "cells": [
    {
      "cell_type": "markdown",
      "metadata": {
        "id": "view-in-github",
        "colab_type": "text"
      },
      "source": [
        "<a href=\"https://colab.research.google.com/github/naidosssik/it-project/blob/main/hw.ipynb\" target=\"_parent\"><img src=\"https://colab.research.google.com/assets/colab-badge.svg\" alt=\"Open In Colab\"/></a>"
      ]
    },
    {
      "cell_type": "code",
      "execution_count": 1,
      "metadata": {
        "id": "q8bwbq-aQu4C"
      },
      "outputs": [],
      "source": [
        "import numpy as np\n",
        "import random\n",
        "import pandas as pd\n"
      ]
    },
    {
      "cell_type": "code",
      "source": [
        "np.random.seed(42)\n",
        "random.seed(42)\n",
        "theta_1 = np.random.randn(100)\n",
        "theta_2 = np.random.randn(100)\n",
        "theta_3 = np.random.randn(100)\n",
        "random.shuffle(theta_1)\n",
        "random.shuffle(theta_2)\n",
        "random.shuffle(theta_3)\n",
        "theta = np.array([theta_1, theta_2, theta_3])\n",
        "\n",
        "def func (x: list, theta: list):\n",
        "    return (x[0] * theta[0] + x[1] * theta[1] + theta[2])\n",
        "\n",
        "data_of_values = [[[0, 1], 1], [[1, 1], 1], [[1, 0], 1], [[-0.5, 0.5], -1], [[0, -0.5], -1]]\n",
        "\n",
        "df_theta = pd.DataFrame(theta.transpose())\n",
        "df_values = pd.DataFrame(data_of_values)\n",
        "\n",
        "def sigma (theta: list):\n",
        "    sigma = 0\n",
        "    for i in range(len(data_of_values)):\n",
        "        sigma += max(0, 1 - df_values[1][i] * func(df_values[0][i], theta))\n",
        "    return sigma\n",
        "def loss (theta: list, N: int, x: list, y):\n",
        "    return 0.1 * (theta[0] ** 2 + theta[1] ** 2 + theta[2] ** 2) + (N ** (-1)) * sigma(theta)\n",
        "  "
      ],
      "metadata": {
        "id": "eVEVZj-8Qx-9"
      },
      "execution_count": 2,
      "outputs": []
    },
    {
      "cell_type": "code",
      "source": [
        "losses = []\n",
        "for i in range(100):\n",
        "    for k in range(5):\n",
        "        losses.append([loss(df_theta.iloc[i], len(data_of_values), df_values.iloc[k][0], df_values.iloc[k][1]), df_theta.iloc[i], df_values.iloc[k][0]])\n",
        "mins = 1000\n",
        "for i in range(len(losses)):\n",
        "    if losses[i][0] < mins:\n",
        "        mins = losses[i][0]\n",
        "        best_losses = losses[i]\n",
        "best_theta = best_losses[1]"
      ],
      "metadata": {
        "id": "-7zdBpVMQ3uJ"
      },
      "execution_count": 3,
      "outputs": []
    },
    {
      "cell_type": "code",
      "source": [
        "import matplotlib.pyplot as plt\n",
        "from mpl_toolkits.mplot3d import Axes3D\n",
        "x = np.arange(-10, 10, 1)\n",
        "y = np.arange(-10, 10, 1)\n",
        "fig = plt.figure()\n",
        "ax = Axes3D(fig)\n",
        "x, y = np.meshgrid(x, y)\n",
        "ax.plot_surface(x, y, func ([x, y], best_theta), rstride=1, cstride=1)\n",
        "plt.show()\n",
        "best_losses[1]"
      ],
      "metadata": {
        "colab": {
          "base_uri": "https://localhost:8080/",
          "height": 102
        },
        "id": "12a0WXccQ7TV",
        "outputId": "b19885bc-399f-4376-958e-718096cfed6c"
      },
      "execution_count": 4,
      "outputs": [
        {
          "output_type": "display_data",
          "data": {
            "text/plain": [
              "<Figure size 432x288 with 0 Axes>"
            ]
          },
          "metadata": {}
        },
        {
          "output_type": "execute_result",
          "data": {
            "text/plain": [
              "0    1.523030\n",
              "1    0.856399\n",
              "2   -0.707669\n",
              "Name: 97, dtype: float64"
            ]
          },
          "metadata": {},
          "execution_count": 4
        }
      ]
    },
    {
      "cell_type": "markdown",
      "source": [],
      "metadata": {
        "id": "TfpG5AGTRP8C"
      }
    }
  ]
}